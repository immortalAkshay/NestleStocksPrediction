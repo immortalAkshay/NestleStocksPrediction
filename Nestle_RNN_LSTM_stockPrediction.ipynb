{
  "nbformat": 4,
  "nbformat_minor": 0,
  "metadata": {
    "colab": {
      "name": "Nestle RNN_LSTM_stockPrediction.ipynb",
      "provenance": [],
      "collapsed_sections": [
        "x3yRvmo6o4ow",
        "BlNIZi-Po8HK",
        "a6DGYcoSq-2d"
      ]
    },
    "kernelspec": {
      "name": "python3",
      "display_name": "Python 3"
    },
    "language_info": {
      "name": "python"
    }
  },
  "cells": [
    {
      "cell_type": "markdown",
      "source": [
        "Name : Akshay Kumar <br>\n",
        "PRN : 20070243001   <br>\n",
        "Subject : Deep Learning  <br>\n",
        "Assignment - 4 : RNN and LSTM model building on company stocks data"
      ],
      "metadata": {
        "id": "XRX_Y0-LvQCa"
      }
    },
    {
      "cell_type": "markdown",
      "metadata": {
        "id": "9lmpYpDE-O9X"
      },
      "source": [
        "# Part 1- Data upload, Data read and data preprocess and EDA"
      ]
    },
    {
      "cell_type": "code",
      "metadata": {
        "colab": {
          "base_uri": "https://localhost:8080/"
        },
        "id": "5btEM4ID5J8h",
        "outputId": "64de89b2-0ba5-4b35-920d-58ddf6ec079e"
      },
      "source": [
        "from google.colab import drive\n",
        "drive.mount('/content/drive')"
      ],
      "execution_count": null,
      "outputs": [
        {
          "output_type": "stream",
          "name": "stdout",
          "text": [
            "Mounted at /content/drive\n"
          ]
        }
      ]
    },
    {
      "cell_type": "markdown",
      "source": [
        "###Loading Libraries"
      ],
      "metadata": {
        "id": "x3yRvmo6o4ow"
      }
    },
    {
      "cell_type": "code",
      "metadata": {
        "id": "mdXN8ivX98DB"
      },
      "source": [
        "#Import  the libraries\n",
        "import numpy as np\n",
        "import matplotlib.pyplot as plt\n",
        "import pandas as pd"
      ],
      "execution_count": null,
      "outputs": []
    },
    {
      "cell_type": "markdown",
      "source": [
        "###Loading Data "
      ],
      "metadata": {
        "id": "BlNIZi-Po8HK"
      }
    },
    {
      "cell_type": "code",
      "metadata": {
        "id": "yl8jWqMi-n1Y",
        "colab": {
          "base_uri": "https://localhost:8080/"
        },
        "outputId": "27e8fa41-6b54-45ab-be5f-065367057ba6"
      },
      "source": [
        "#importing the training data\n",
        "data_train = pd.read_csv(\"/content/drive/MyDrive/Dataset/Nestle_Stocks/NESTLEIND.NS_Train.csv\")\n",
        "training_set = data_train.iloc[:,1:2].values\n",
        "training_set "
      ],
      "execution_count": null,
      "outputs": [
        {
          "output_type": "execute_result",
          "data": {
            "text/plain": [
              "array([[ 7900.      ],\n",
              "       [ 7855.      ],\n",
              "       [ 7900.      ],\n",
              "       [ 7865.      ],\n",
              "       [ 7846.299805],\n",
              "       [ 7830.      ],\n",
              "       [ 7941.149902],\n",
              "       [ 7850.      ],\n",
              "       [ 7854.799805],\n",
              "       [ 7878.      ],\n",
              "       [ 7815.      ],\n",
              "       [ 7760.      ],\n",
              "       [ 7799.700195],\n",
              "       [ 7830.      ],\n",
              "       [ 7800.      ],\n",
              "       [ 7667.549805],\n",
              "       [ 7699.      ],\n",
              "       [ 7630.      ],\n",
              "       [ 7553.      ],\n",
              "       [ 7530.      ],\n",
              "       [ 7520.      ],\n",
              "       [ 7483.950195],\n",
              "       [ 7499.      ],\n",
              "       [ 7300.      ],\n",
              "       [ 7130.      ],\n",
              "       [ 7000.      ],\n",
              "       [ 7097.950195],\n",
              "       [ 7014.      ],\n",
              "       [ 6973.      ],\n",
              "       [ 6998.      ],\n",
              "       [ 7200.      ],\n",
              "       [ 7500.      ],\n",
              "       [ 7650.      ],\n",
              "       [ 7630.      ],\n",
              "       [ 7520.      ],\n",
              "       [ 7579.      ],\n",
              "       [ 7599.      ],\n",
              "       [ 7573.      ],\n",
              "       [ 7615.      ],\n",
              "       [ 7644.      ],\n",
              "       [ 7759.      ],\n",
              "       [ 7777.      ],\n",
              "       [ 7880.      ],\n",
              "       [ 7763.399902],\n",
              "       [ 7709.899902],\n",
              "       [ 7788.      ],\n",
              "       [ 7767.5     ],\n",
              "       [ 7694.799805],\n",
              "       [ 7619.      ],\n",
              "       [ 7701.      ],\n",
              "       [ 7729.      ],\n",
              "       [ 7750.      ],\n",
              "       [ 7722.549805],\n",
              "       [ 7699.899902],\n",
              "       [ 7889.      ],\n",
              "       [ 7848.      ],\n",
              "       [ 7800.      ],\n",
              "       [ 7827.      ],\n",
              "       [ 7899.950195],\n",
              "       [ 8155.      ],\n",
              "       [ 8199.849609],\n",
              "       [ 8299.900391],\n",
              "       [ 8322.      ],\n",
              "       [ 8388.650391],\n",
              "       [ 8384.25    ],\n",
              "       [ 8350.      ],\n",
              "       [ 8399.75    ],\n",
              "       [ 8499.599609],\n",
              "       [ 8446.      ],\n",
              "       [ 8650.049805],\n",
              "       [ 8704.5     ],\n",
              "       [ 8784.5     ],\n",
              "       [ 8981.099609],\n",
              "       [ 8975.849609],\n",
              "       [ 9175.      ],\n",
              "       [ 9161.099609],\n",
              "       [ 8919.900391],\n",
              "       [ 8820.      ],\n",
              "       [ 8799.849609],\n",
              "       [ 9015.200195],\n",
              "       [ 9100.      ],\n",
              "       [ 9405.      ],\n",
              "       [ 9272.      ],\n",
              "       [ 9140.200195],\n",
              "       [ 9114.049805],\n",
              "       [ 9175.      ],\n",
              "       [ 9070.200195],\n",
              "       [ 9139.      ],\n",
              "       [ 9240.      ],\n",
              "       [ 9523.      ],\n",
              "       [ 9600.      ],\n",
              "       [ 9544.950195],\n",
              "       [ 9645.      ],\n",
              "       [ 9690.      ],\n",
              "       [ 9690.      ],\n",
              "       [ 9505.      ],\n",
              "       [ 9643.650391],\n",
              "       [ 9649.900391],\n",
              "       [ 9657.900391],\n",
              "       [ 9715.      ],\n",
              "       [ 9602.      ],\n",
              "       [ 9578.      ],\n",
              "       [ 9559.900391],\n",
              "       [ 9669.      ],\n",
              "       [10000.      ],\n",
              "       [ 9819.25    ],\n",
              "       [ 9599.      ],\n",
              "       [ 9819.950195],\n",
              "       [ 9799.950195],\n",
              "       [ 9887.950195],\n",
              "       [ 9939.      ],\n",
              "       [ 9890.      ],\n",
              "       [ 9836.049805],\n",
              "       [ 9760.      ],\n",
              "       [ 9700.      ],\n",
              "       [ 9998.799805],\n",
              "       [ 9665.      ],\n",
              "       [ 9750.049805],\n",
              "       [ 9840.      ],\n",
              "       [ 9850.099609],\n",
              "       [ 9929.799805],\n",
              "       [10109.      ],\n",
              "       [10028.      ],\n",
              "       [ 9898.      ],\n",
              "       [ 9890.      ],\n",
              "       [ 9823.950195],\n",
              "       [ 9806.      ],\n",
              "       [ 9924.650391],\n",
              "       [ 9949.75    ],\n",
              "       [ 9999.      ],\n",
              "       [ 9905.      ],\n",
              "       [10021.      ],\n",
              "       [10248.      ],\n",
              "       [10100.      ],\n",
              "       [10199.900391],\n",
              "       [10202.      ],\n",
              "       [10530.      ],\n",
              "       [10415.049805],\n",
              "       [10295.150391],\n",
              "       [10403.      ],\n",
              "       [10402.      ],\n",
              "       [10309.75    ],\n",
              "       [10203.049805],\n",
              "       [10380.      ],\n",
              "       [10299.950195],\n",
              "       [10179.900391],\n",
              "       [10600.      ],\n",
              "       [10850.      ],\n",
              "       [10810.      ],\n",
              "       [10500.      ],\n",
              "       [10604.      ],\n",
              "       [10580.599609],\n",
              "       [10767.      ],\n",
              "       [10900.      ],\n",
              "       [10660.      ],\n",
              "       [10852.      ],\n",
              "       [10850.      ],\n",
              "       [10887.      ],\n",
              "       [10920.      ],\n",
              "       [10859.      ],\n",
              "       [10948.      ],\n",
              "       [11486.      ],\n",
              "       [11410.      ],\n",
              "       [11399.849609],\n",
              "       [11358.      ],\n",
              "       [11302.      ],\n",
              "       [11287.      ],\n",
              "       [11679.950195],\n",
              "       [11330.      ],\n",
              "       [10838.950195],\n",
              "       [10458.      ],\n",
              "       [10370.      ],\n",
              "       [10450.      ],\n",
              "       [10300.      ],\n",
              "       [10080.      ],\n",
              "       [10457.5     ],\n",
              "       [10348.      ],\n",
              "       [10247.      ],\n",
              "       [10364.      ],\n",
              "       [10209.      ],\n",
              "       [ 9878.      ],\n",
              "       [ 9625.049805],\n",
              "       [ 9799.900391],\n",
              "       [ 9796.      ],\n",
              "       [ 9720.      ],\n",
              "       [ 9723.950195],\n",
              "       [ 9600.      ],\n",
              "       [ 9180.      ],\n",
              "       [ 9340.      ],\n",
              "       [ 9418.950195],\n",
              "       [ 9380.75    ],\n",
              "       [ 9480.049805],\n",
              "       [ 9300.      ],\n",
              "       [ 9460.      ],\n",
              "       [ 9730.      ],\n",
              "       [ 9659.950195],\n",
              "       [ 9800.      ],\n",
              "       [ 9676.200195],\n",
              "       [ 9710.      ],\n",
              "       [ 9301.5     ],\n",
              "       [ 9440.049805],\n",
              "       [ 9500.      ],\n",
              "       [ 9588.5     ],\n",
              "       [ 9759.      ],\n",
              "       [ 9688.      ],\n",
              "       [ 9800.      ],\n",
              "       [10239.      ],\n",
              "       [10069.900391],\n",
              "       [10234.5     ],\n",
              "       [10335.049805],\n",
              "       [10250.      ],\n",
              "       [10284.      ],\n",
              "       [10249.849609],\n",
              "       [10135.      ],\n",
              "       [10156.      ],\n",
              "       [10394.400391],\n",
              "       [10500.      ],\n",
              "       [10786.      ],\n",
              "       [10384.      ],\n",
              "       [10300.      ],\n",
              "       [10306.900391],\n",
              "       [10325.      ],\n",
              "       [10450.      ],\n",
              "       [10580.      ],\n",
              "       [10777.      ],\n",
              "       [10700.      ],\n",
              "       [10819.200195],\n",
              "       [10725.200195],\n",
              "       [10550.      ],\n",
              "       [10448.200195],\n",
              "       [10330.      ],\n",
              "       [10300.      ],\n",
              "       [10357.      ],\n",
              "       [10635.200195],\n",
              "       [10950.      ],\n",
              "       [11034.      ],\n",
              "       [11005.      ],\n",
              "       [11173.      ],\n",
              "       [11199.900391],\n",
              "       [11150.049805],\n",
              "       [11264.700195],\n",
              "       [11056.      ],\n",
              "       [10965.      ],\n",
              "       [10849.      ],\n",
              "       [10994.      ],\n",
              "       [11300.      ],\n",
              "       [11150.      ],\n",
              "       [10980.5     ],\n",
              "       [11111.      ],\n",
              "       [11139.      ],\n",
              "       [10875.      ],\n",
              "       [10800.      ],\n",
              "       [11099.849609],\n",
              "       [11320.      ],\n",
              "       [11400.150391],\n",
              "       [11300.      ],\n",
              "       [11296.      ],\n",
              "       [11261.049805],\n",
              "       [11200.      ],\n",
              "       [11200.      ],\n",
              "       [11296.      ],\n",
              "       [11290.      ],\n",
              "       [11255.      ],\n",
              "       [11315.900391],\n",
              "       [11460.      ],\n",
              "       [11365.599609],\n",
              "       [11380.      ],\n",
              "       [11420.      ],\n",
              "       [11420.      ],\n",
              "       [11498.049805],\n",
              "       [11515.      ],\n",
              "       [11534.950195],\n",
              "       [11654.      ],\n",
              "       [11615.      ],\n",
              "       [11707.950195],\n",
              "       [11300.      ],\n",
              "       [10835.      ],\n",
              "       [10541.      ],\n",
              "       [10450.      ],\n",
              "       [10549.      ],\n",
              "       [10350.049805],\n",
              "       [10531.5     ],\n",
              "       [10500.      ],\n",
              "       [10639.900391],\n",
              "       [10739.      ],\n",
              "       [10799.      ],\n",
              "       [10804.400391],\n",
              "       [10750.      ],\n",
              "       [10640.      ],\n",
              "       [10281.450195],\n",
              "       [10593.      ],\n",
              "       [10340.      ],\n",
              "       [10219.950195],\n",
              "       [10099.349609],\n",
              "       [10298.900391],\n",
              "       [10528.      ],\n",
              "       [10758.      ],\n",
              "       [10701.299805],\n",
              "       [10375.      ],\n",
              "       [10456.599609],\n",
              "       [10729.900391],\n",
              "       [10593.      ],\n",
              "       [10515.049805],\n",
              "       [10565.200195],\n",
              "       [10690.950195],\n",
              "       [10938.900391],\n",
              "       [10980.      ],\n",
              "       [10979.700195],\n",
              "       [10947.      ],\n",
              "       [11059.      ],\n",
              "       [10935.049805],\n",
              "       [10999.      ],\n",
              "       [10889.      ],\n",
              "       [10792.5     ],\n",
              "       [10795.      ],\n",
              "       [10767.900391],\n",
              "       [11000.      ],\n",
              "       [11000.      ],\n",
              "       [11186.400391],\n",
              "       [10965.      ],\n",
              "       [10940.      ],\n",
              "       [10907.5     ],\n",
              "       [10890.      ],\n",
              "       [10851.      ],\n",
              "       [10900.      ],\n",
              "       [10905.      ],\n",
              "       [10650.      ],\n",
              "       [10400.      ],\n",
              "       [10401.5     ],\n",
              "       [10487.75    ],\n",
              "       [10295.      ],\n",
              "       [10371.900391],\n",
              "       [10262.      ],\n",
              "       [10310.      ],\n",
              "       [10401.      ],\n",
              "       [10332.700195],\n",
              "       [10299.950195],\n",
              "       [10680.      ],\n",
              "       [10849.950195],\n",
              "       [10650.049805],\n",
              "       [10848.      ],\n",
              "       [10813.      ],\n",
              "       [10750.      ],\n",
              "       [11040.      ],\n",
              "       [11125.      ],\n",
              "       [11175.25    ],\n",
              "       [11350.      ],\n",
              "       [11498.599609],\n",
              "       [11600.      ],\n",
              "       [11552.349609],\n",
              "       [11610.      ],\n",
              "       [11607.099609],\n",
              "       [11755.      ],\n",
              "       [11674.      ],\n",
              "       [11620.      ],\n",
              "       [11615.5     ],\n",
              "       [11559.      ],\n",
              "       [11505.049805],\n",
              "       [11478.900391],\n",
              "       [11613.049805],\n",
              "       [11710.      ],\n",
              "       [11600.      ],\n",
              "       [11680.049805],\n",
              "       [11706.      ],\n",
              "       [11810.299805],\n",
              "       [11762.      ],\n",
              "       [11984.      ],\n",
              "       [11860.      ],\n",
              "       [11964.      ],\n",
              "       [11810.      ],\n",
              "       [11929.950195],\n",
              "       [11929.      ],\n",
              "       [11819.799805],\n",
              "       [11715.      ],\n",
              "       [11624.049805],\n",
              "       [11507.      ],\n",
              "       [11689.      ],\n",
              "       [11632.      ],\n",
              "       [11706.      ],\n",
              "       [11726.799805],\n",
              "       [11649.900391],\n",
              "       [11508.049805],\n",
              "       [11305.      ],\n",
              "       [11500.      ],\n",
              "       [11509.      ],\n",
              "       [11525.      ],\n",
              "       [11600.      ],\n",
              "       [11673.849609],\n",
              "       [11500.049805],\n",
              "       [11664.      ],\n",
              "       [11425.      ],\n",
              "       [11528.      ],\n",
              "       [11710.      ],\n",
              "       [11790.      ],\n",
              "       [11800.      ],\n",
              "       [11780.      ],\n",
              "       [11962.200195],\n",
              "       [11893.450195],\n",
              "       [12099.900391],\n",
              "       [12090.      ],\n",
              "       [12114.      ],\n",
              "       [11970.      ],\n",
              "       [12640.      ],\n",
              "       [12499.5     ],\n",
              "       [12621.75    ],\n",
              "       [12354.099609],\n",
              "       [12545.      ],\n",
              "       [12643.      ],\n",
              "       [12725.      ],\n",
              "       [12830.      ],\n",
              "       [12699.75    ],\n",
              "       [12480.049805],\n",
              "       [12650.      ],\n",
              "       [12629.299805],\n",
              "       [12838.950195],\n",
              "       [12776.450195],\n",
              "       [12570.      ],\n",
              "       [12511.900391],\n",
              "       [12760.049805],\n",
              "       [12844.      ],\n",
              "       [12740.049805],\n",
              "       [12745.      ],\n",
              "       [13700.      ],\n",
              "       [13720.      ],\n",
              "       [13424.      ],\n",
              "       [13545.      ],\n",
              "       [13840.      ],\n",
              "       [13740.099609],\n",
              "       [13889.      ],\n",
              "       [13680.      ],\n",
              "       [13792.      ],\n",
              "       [13508.200195],\n",
              "       [13645.      ],\n",
              "       [13857.      ],\n",
              "       [13819.849609],\n",
              "       [14135.      ],\n",
              "       [14152.099609],\n",
              "       [14099.900391],\n",
              "       [14383.      ],\n",
              "       [14519.099609],\n",
              "       [14888.      ],\n",
              "       [15091.      ],\n",
              "       [15019.      ],\n",
              "       [14779.      ],\n",
              "       [14935.      ],\n",
              "       [14868.      ],\n",
              "       [14887.      ],\n",
              "       [14970.049805],\n",
              "       [14947.      ],\n",
              "       [14988.400391],\n",
              "       [14840.      ],\n",
              "       [14675.      ],\n",
              "       [14710.      ],\n",
              "       [14750.      ],\n",
              "       [14490.      ],\n",
              "       [14108.450195],\n",
              "       [14250.      ],\n",
              "       [14261.849609],\n",
              "       [14349.900391],\n",
              "       [14110.      ],\n",
              "       [14117.      ],\n",
              "       [14240.      ],\n",
              "       [14190.      ],\n",
              "       [14248.150391],\n",
              "       [14398.849609],\n",
              "       [14560.      ],\n",
              "       [14635.5     ],\n",
              "       [14699.      ],\n",
              "       [14453.950195],\n",
              "       [14553.299805],\n",
              "       [14330.      ],\n",
              "       [14395.650391],\n",
              "       [14301.      ],\n",
              "       [14230.      ],\n",
              "       [14224.      ],\n",
              "       [14109.      ],\n",
              "       [14077.099609],\n",
              "       [14190.      ],\n",
              "       [14260.      ],\n",
              "       [14214.900391],\n",
              "       [14200.      ],\n",
              "       [14192.      ],\n",
              "       [14260.      ],\n",
              "       [14786.      ],\n",
              "       [14580.      ],\n",
              "       [14600.      ],\n",
              "       [14648.799805],\n",
              "       [14679.900391]])"
            ]
          },
          "metadata": {},
          "execution_count": 3
        }
      ]
    },
    {
      "cell_type": "code",
      "metadata": {
        "id": "V89YAmPNLM7-",
        "colab": {
          "base_uri": "https://localhost:8080/"
        },
        "outputId": "93ef7e44-4991-420a-d434-bee25fd70fa2"
      },
      "source": [
        "#Loading Test data 1 (Jan- Mar 2020)\n",
        "dataset_test1 = pd.read_csv('/content/drive/MyDrive/Dataset/Nestle_Stocks/NESTLEIND.NS_Test1.csv')\n",
        "real_stock_values = dataset_test1.iloc[:,1:2].values\n",
        "real_stock_values"
      ],
      "execution_count": null,
      "outputs": [
        {
          "output_type": "execute_result",
          "data": {
            "text/plain": [
              "array([[14819.      ],\n",
              "       [14848.900391],\n",
              "       [14750.      ],\n",
              "       [14542.      ],\n",
              "       [14423.549805],\n",
              "       [14191.599609],\n",
              "       [14495.      ],\n",
              "       [14643.450195],\n",
              "       [14747.900391],\n",
              "       [14657.900391],\n",
              "       [14828.      ],\n",
              "       [14851.      ],\n",
              "       [15399.      ],\n",
              "       [15230.150391],\n",
              "       [15361.049805],\n",
              "       [15369.      ],\n",
              "       [15500.      ],\n",
              "       [15600.      ],\n",
              "       [15700.      ],\n",
              "       [15664.      ],\n",
              "       [15585.      ],\n",
              "       [15802.      ],\n",
              "       [15560.      ],\n",
              "       [15589.      ],\n",
              "       [16400.      ],\n",
              "       [16476.      ],\n",
              "       [16399.      ],\n",
              "       [16340.      ],\n",
              "       [16300.      ],\n",
              "       [16240.      ],\n",
              "       [16026.      ],\n",
              "       [16328.      ],\n",
              "       [16500.      ],\n",
              "       [16413.      ],\n",
              "       [16569.900391],\n",
              "       [16538.599609],\n",
              "       [16740.      ],\n",
              "       [16499.      ],\n",
              "       [16373.      ],\n",
              "       [16545.      ],\n",
              "       [16300.      ],\n",
              "       [16042.      ],\n",
              "       [15950.      ],\n",
              "       [16130.25    ],\n",
              "       [16397.      ],\n",
              "       [16550.      ],\n",
              "       [16358.099609],\n",
              "       [16249.299805],\n",
              "       [16005.150391],\n",
              "       [15869.450195],\n",
              "       [15341.      ],\n",
              "       [14800.      ],\n",
              "       [14500.      ],\n",
              "       [14550.      ],\n",
              "       [13000.5     ],\n",
              "       [13198.      ],\n",
              "       [12750.400391],\n",
              "       [13889.      ],\n",
              "       [12800.      ],\n",
              "       [14699.700195],\n",
              "       [15400.      ],\n",
              "       [14990.      ]])"
            ]
          },
          "metadata": {},
          "execution_count": 4
        }
      ]
    },
    {
      "cell_type": "code",
      "metadata": {
        "id": "cIzb3Wy0eMBA",
        "colab": {
          "base_uri": "https://localhost:8080/"
        },
        "outputId": "b8f5e327-e629-4cbd-ef0e-0c8212f4a6a9"
      },
      "source": [
        "dataset_test2 = pd.read_csv('/content/drive/MyDrive/Dataset/Nestle_Stocks/NESTLEIND.NS_Test2.csv')\n",
        "real_stock_values2 = dataset_test2.iloc[:,1:2].values\n",
        "real_stock_values2"
      ],
      "execution_count": null,
      "outputs": [
        {
          "output_type": "execute_result",
          "data": {
            "text/plain": [
              "array([[16300.25    ],\n",
              "       [15939.700195],\n",
              "       [15575.      ],\n",
              "       [16650.      ],\n",
              "       [17436.949219],\n",
              "       [16845.      ],\n",
              "       [16657.099609],\n",
              "       [17320.      ],\n",
              "       [18369.949219],\n",
              "       [17489.800781],\n",
              "       [16800.      ],\n",
              "       [17008.349609],\n",
              "       [17599.949219],\n",
              "       [17300.      ],\n",
              "       [17585.      ],\n",
              "       [17976.5     ],\n",
              "       [17748.      ],\n",
              "       [17700.      ],\n",
              "       [17420.5     ],\n",
              "       [17571.      ],\n",
              "       [17421.5     ],\n",
              "       [17200.      ],\n",
              "       [17350.      ],\n",
              "       [17770.      ],\n",
              "       [17609.      ],\n",
              "       [17750.      ],\n",
              "       [16600.      ],\n",
              "       [16500.      ],\n",
              "       [16441.      ],\n",
              "       [16280.200195],\n",
              "       [16241.      ],\n",
              "       [16330.      ],\n",
              "       [16296.      ],\n",
              "       [16380.      ],\n",
              "       [16700.      ],\n",
              "       [16716.5     ],\n",
              "       [16950.      ],\n",
              "       [17540.800781],\n",
              "       [17477.      ],\n",
              "       [17175.      ],\n",
              "       [17406.900391],\n",
              "       [17317.      ],\n",
              "       [17250.      ],\n",
              "       [16652.      ],\n",
              "       [16650.      ],\n",
              "       [16550.      ],\n",
              "       [16300.      ],\n",
              "       [16500.      ],\n",
              "       [16598.      ],\n",
              "       [16345.      ],\n",
              "       [16218.5     ],\n",
              "       [16290.      ],\n",
              "       [16290.      ],\n",
              "       [16289.799805],\n",
              "       [16660.      ],\n",
              "       [16590.300781],\n",
              "       [16850.      ],\n",
              "       [16740.      ]])"
            ]
          },
          "metadata": {},
          "execution_count": 5
        }
      ]
    },
    {
      "cell_type": "markdown",
      "source": [
        "### Exploration of training data"
      ],
      "metadata": {
        "id": "aCckS4q-pwD1"
      }
    },
    {
      "cell_type": "code",
      "source": [
        "f = plt.figure()\n",
        "f.set_figwidth(10)\n",
        "f.set_figheight(10)\n",
        "plt.plot(data_train.Close, color = 'C0',label = 'Closing Value'), plt.plot(data_train.Open, color = 'yellow', label = 'Opening Value')\n",
        "plt.legend(loc = 'best')\n",
        "plt.xlabel('Days', fontsize = 16)\n",
        "plt.ylabel('Open and Close values',fontsize = 16)\n",
        "plt.title(\"Comparison of Open and Close Values\",fontsize = 22)"
      ],
      "metadata": {
        "colab": {
          "base_uri": "https://localhost:8080/",
          "height": 650
        },
        "id": "4XjJ3XXClMhk",
        "outputId": "2e9f8a89-1873-426d-f413-6c60900abe2b"
      },
      "execution_count": null,
      "outputs": [
        {
          "output_type": "execute_result",
          "data": {
            "text/plain": [
              "Text(0.5, 1.0, 'Comparison of Open and Close Values')"
            ]
          },
          "metadata": {},
          "execution_count": 6
        },
        {
          "output_type": "display_data",
          "data": {
            "image/png": "[encoded data removed]",
            "text/plain": [
              "<Figure size 720x720 with 1 Axes>"
            ]
          },
          "metadata": {
            "needs_background": "light"
          }
        }
      ]
    },
    {
      "cell_type": "code",
      "source": [
        "data_train['Open'].hist()"
      ],
      "metadata": {
        "colab": {
          "base_uri": "https://localhost:8080/",
          "height": 282
        },
        "id": "fg2kjeuBk4EZ",
        "outputId": "b44abf39-3a27-403a-eb81-b3b0dcfa3d48"
      },
      "execution_count": null,
      "outputs": [
        {
          "output_type": "execute_result",
          "data": {
            "text/plain": [
              "<matplotlib.axes._subplots.AxesSubplot at 0x7f701079c7d0>"
            ]
          },
          "metadata": {},
          "execution_count": 7
        },
        {
          "output_type": "display_data",
          "data": {
            "image/png": "[encoded data removed]",
            "text/plain": [
              "<Figure size 432x288 with 1 Axes>"
            ]
          },
          "metadata": {
            "needs_background": "light"
          }
        }
      ]
    },
    {
      "cell_type": "code",
      "source": [
        "f = plt.figure()\n",
        "f.set_figwidth(10)\n",
        "f.set_figheight(10)\n",
        "plt.plot(data_train.Volume, color = 'C3')\n",
        "plt.title('Volume of stocks traded(2018-2019)', fontsize = 22)\n",
        "plt.ylabel('Volume',fontsize= 16)\n",
        "plt.xlabel('Days',fontsize= 16)"
      ],
      "metadata": {
        "colab": {
          "base_uri": "https://localhost:8080/",
          "height": 650
        },
        "id": "PN10VilZv8RZ",
        "outputId": "c3fd43bf-0f65-4b02-b8b5-74345d4b4f3e"
      },
      "execution_count": null,
      "outputs": [
        {
          "output_type": "execute_result",
          "data": {
            "text/plain": [
              "Text(0.5, 0, 'Days')"
            ]
          },
          "metadata": {},
          "execution_count": 8
        },
        {
          "output_type": "display_data",
          "data": {
            "image/png": "[encoded data removed]",
            "text/plain": [
              "<Figure size 720x720 with 1 Axes>"
            ]
          },
          "metadata": {
            "needs_background": "light"
          }
        }
      ]
    },
    {
      "cell_type": "code",
      "source": [
        "plt.plot(dataset_test1.Open, color = 'C2')\n",
        "plt.title(\"January- March 2020\", fontsize = 20)\n",
        "plt.ylabel('Opening value', fontsize = 16)\n",
        "plt.xlabel('Days',fontsize= 16)"
      ],
      "metadata": {
        "colab": {
          "base_uri": "https://localhost:8080/",
          "height": 322
        },
        "id": "re2O0tZizY0c",
        "outputId": "b0a6896a-ed5b-4e37-fb69-d7742e69d199"
      },
      "execution_count": null,
      "outputs": [
        {
          "output_type": "execute_result",
          "data": {
            "text/plain": [
              "Text(0.5, 0, 'Days')"
            ]
          },
          "metadata": {},
          "execution_count": 9
        },
        {
          "output_type": "display_data",
          "data": {
            "image/png": "[encoded data removed]",
            "text/plain": [
              "<Figure size 432x288 with 1 Axes>"
            ]
          },
          "metadata": {
            "needs_background": "light"
          }
        }
      ]
    },
    {
      "cell_type": "code",
      "source": [
        "plt.plot(dataset_test2.Open, color = 'C3')\n",
        "plt.title(\"April- June 2020\", fontsize = 20)\n",
        "plt.ylabel('Opening value', fontsize = 16)\n",
        "plt.xlabel('Days',fontsize= 16)"
      ],
      "metadata": {
        "colab": {
          "base_uri": "https://localhost:8080/",
          "height": 322
        },
        "id": "SgAcFDP-zj28",
        "outputId": "890422c1-0baf-4032-8b94-929a5a5afbf0"
      },
      "execution_count": null,
      "outputs": [
        {
          "output_type": "execute_result",
          "data": {
            "text/plain": [
              "Text(0.5, 0, 'Days')"
            ]
          },
          "metadata": {},
          "execution_count": 10
        },
        {
          "output_type": "display_data",
          "data": {
            "image/png": "[encoded data removed]",
            "text/plain": [
              "<Figure size 432x288 with 1 Axes>"
            ]
          },
          "metadata": {
            "needs_background": "light"
          }
        }
      ]
    },
    {
      "cell_type": "markdown",
      "source": [
        "##Data Preprocessing"
      ],
      "metadata": {
        "id": "TqyHOZsMp1cQ"
      }
    },
    {
      "cell_type": "code",
      "metadata": {
        "colab": {
          "base_uri": "https://localhost:8080/"
        },
        "id": "5VnsFXJx_JGH",
        "outputId": "7ba938c9-2297-4c6c-bc9e-d46d09aeea0f"
      },
      "source": [
        "# Feature Scaling using min max scaler\n",
        "from sklearn.preprocessing import MinMaxScaler\n",
        "sc = MinMaxScaler(feature_range = (0,1))\n",
        "training_set_scaled = sc.fit_transform(training_set)\n",
        "training_set_scaled"
      ],
      "execution_count": null,
      "outputs": [
        {
          "output_type": "execute_result",
          "data": {
            "text/plain": [
              "array([[0.11419069],\n",
              "       [0.10864745],\n",
              "       [0.11419069],\n",
              "       [0.10987928],\n",
              "       [0.10757573],\n",
              "       [0.10556787],\n",
              "       [0.11925966],\n",
              "       [0.10803153],\n",
              "       [0.10862279],\n",
              "       [0.11148066],\n",
              "       [0.10372013],\n",
              "       [0.09694506],\n",
              "       [0.10183545],\n",
              "       [0.10556787],\n",
              "       [0.10187238],\n",
              "       [0.08555676],\n",
              "       [0.08943089],\n",
              "       [0.08093126],\n",
              "       [0.07144617],\n",
              "       [0.06861296],\n",
              "       [0.06738113],\n",
              "       [0.0629404 ],\n",
              "       [0.06479428],\n",
              "       [0.04028086],\n",
              "       [0.01933974],\n",
              "       [0.00332594],\n",
              "       [0.01539175],\n",
              "       [0.00505051],\n",
              "       [0.        ],\n",
              "       [0.00307958],\n",
              "       [0.02796255],\n",
              "       [0.06491747],\n",
              "       [0.08339492],\n",
              "       [0.08093126],\n",
              "       [0.06738113],\n",
              "       [0.07464893],\n",
              "       [0.07711259],\n",
              "       [0.07390983],\n",
              "       [0.07908352],\n",
              "       [0.08265583],\n",
              "       [0.09682188],\n",
              "       [0.09903917],\n",
              "       [0.11172703],\n",
              "       [0.09736387],\n",
              "       [0.09077358],\n",
              "       [0.10039419],\n",
              "       [0.09786893],\n",
              "       [0.0889135 ],\n",
              "       [0.07957625],\n",
              "       [0.08967726],\n",
              "       [0.09312639],\n",
              "       [0.09571323],\n",
              "       [0.09233183],\n",
              "       [0.08954175],\n",
              "       [0.11283567],\n",
              "       [0.10778517],\n",
              "       [0.10187238],\n",
              "       [0.10519832],\n",
              "       [0.11418455],\n",
              "       [0.14560237],\n",
              "       [0.15112708],\n",
              "       [0.16345164],\n",
              "       [0.16617393],\n",
              "       [0.17438413],\n",
              "       [0.17384208],\n",
              "       [0.16962306],\n",
              "       [0.17575142],\n",
              "       [0.1880512 ],\n",
              "       [0.18144863],\n",
              "       [0.20658411],\n",
              "       [0.21329145],\n",
              "       [0.2231461 ],\n",
              "       [0.24736383],\n",
              "       [0.24671712],\n",
              "       [0.27124908],\n",
              "       [0.26953678],\n",
              "       [0.23982513],\n",
              "       [0.22751909],\n",
              "       [0.22503691],\n",
              "       [0.25156445],\n",
              "       [0.26201035],\n",
              "       [0.29958118],\n",
              "       [0.28319783],\n",
              "       [0.26696233],\n",
              "       [0.26374105],\n",
              "       [0.27124908],\n",
              "       [0.25833952],\n",
              "       [0.26681449],\n",
              "       [0.27925597],\n",
              "       [0.31411678],\n",
              "       [0.32360187],\n",
              "       [0.31682067],\n",
              "       [0.32914511],\n",
              "       [0.33468835],\n",
              "       [0.33468835],\n",
              "       [0.31189948],\n",
              "       [0.32897886],\n",
              "       [0.32974875],\n",
              "       [0.33073422],\n",
              "       [0.33776792],\n",
              "       [0.32384824],\n",
              "       [0.32089185],\n",
              "       [0.31866228],\n",
              "       [0.3321015 ],\n",
              "       [0.37287509],\n",
              "       [0.35060976],\n",
              "       [0.32347869],\n",
              "       [0.35069601],\n",
              "       [0.34823235],\n",
              "       [0.35907246],\n",
              "       [0.36536093],\n",
              "       [0.35932496],\n",
              "       [0.35267921],\n",
              "       [0.34331116],\n",
              "       [0.33592018],\n",
              "       [0.37272725],\n",
              "       [0.33160877],\n",
              "       [0.34208547],\n",
              "       [0.3531658 ],\n",
              "       [0.35440991],\n",
              "       [0.36422762],\n",
              "       [0.38630204],\n",
              "       [0.37632422],\n",
              "       [0.36031042],\n",
              "       [0.35932496],\n",
              "       [0.35118874],\n",
              "       [0.34897758],\n",
              "       [0.3635933 ],\n",
              "       [0.36668514],\n",
              "       [0.37275191],\n",
              "       [0.3611727 ],\n",
              "       [0.37546194],\n",
              "       [0.40342449],\n",
              "       [0.3851934 ],\n",
              "       [0.39749943],\n",
              "       [0.39775807],\n",
              "       [0.43816211],\n",
              "       [0.42400219],\n",
              "       [0.40923262],\n",
              "       [0.42251786],\n",
              "       [0.42239468],\n",
              "       [0.41103104],\n",
              "       [0.39788739],\n",
              "       [0.41968465],\n",
              "       [0.40982387],\n",
              "       [0.39503577],\n",
              "       [0.44678492],\n",
              "       [0.47758068],\n",
              "       [0.47265336],\n",
              "       [0.43446662],\n",
              "       [0.44727765],\n",
              "       [0.44439512],\n",
              "       [0.46735649],\n",
              "       [0.48373984],\n",
              "       [0.45417591],\n",
              "       [0.47782705],\n",
              "       [0.47758068],\n",
              "       [0.48213846],\n",
              "       [0.4862035 ],\n",
              "       [0.47868933],\n",
              "       [0.48965262],\n",
              "       [0.5559251 ],\n",
              "       [0.54656319],\n",
              "       [0.54531284],\n",
              "       [0.54015767],\n",
              "       [0.53325942],\n",
              "       [0.53141168],\n",
              "       [0.57981648],\n",
              "       [0.53670855],\n",
              "       [0.47621954],\n",
              "       [0.42929293],\n",
              "       [0.41845282],\n",
              "       [0.42830746],\n",
              "       [0.40983001],\n",
              "       [0.38272974],\n",
              "       [0.42923134],\n",
              "       [0.41574279],\n",
              "       [0.40330131],\n",
              "       [0.41771372],\n",
              "       [0.39862035],\n",
              "       [0.35784676],\n",
              "       [0.32668758],\n",
              "       [0.34822621],\n",
              "       [0.34774575],\n",
              "       [0.33838384],\n",
              "       [0.33887044],\n",
              "       [0.32360187],\n",
              "       [0.27186499],\n",
              "       [0.29157428],\n",
              "       [0.30129961],\n",
              "       [0.29659399],\n",
              "       [0.30882604],\n",
              "       [0.28664696],\n",
              "       [0.30635625],\n",
              "       [0.33961567],\n",
              "       [0.33098672],\n",
              "       [0.34823848],\n",
              "       [0.33298844],\n",
              "       [0.33715201],\n",
              "       [0.28683173],\n",
              "       [0.30389872],\n",
              "       [0.31128357],\n",
              "       [0.32218527],\n",
              "       [0.34318798],\n",
              "       [0.33444198],\n",
              "       [0.34823848],\n",
              "       [0.40231584],\n",
              "       [0.38148564],\n",
              "       [0.40176152],\n",
              "       [0.41414755],\n",
              "       [0.40367085],\n",
              "       [0.40785908],\n",
              "       [0.40365233],\n",
              "       [0.3895048 ],\n",
              "       [0.39209165],\n",
              "       [0.42145854],\n",
              "       [0.43446662],\n",
              "       [0.46969697],\n",
              "       [0.42017738],\n",
              "       [0.40983001],\n",
              "       [0.41068002],\n",
              "       [0.41290958],\n",
              "       [0.42830746],\n",
              "       [0.44432126],\n",
              "       [0.46858832],\n",
              "       [0.45910323],\n",
              "       [0.47378667],\n",
              "       [0.46220746],\n",
              "       [0.44062577],\n",
              "       [0.42808576],\n",
              "       [0.4135255 ],\n",
              "       [0.40983001],\n",
              "       [0.41685144],\n",
              "       [0.45112099],\n",
              "       [0.48989899],\n",
              "       [0.50024637],\n",
              "       [0.49667406],\n",
              "       [0.51736881],\n",
              "       [0.52068248],\n",
              "       [0.51454174],\n",
              "       [0.52866472],\n",
              "       [0.50295639],\n",
              "       [0.49174674],\n",
              "       [0.4774575 ],\n",
              "       [0.49531904],\n",
              "       [0.53301306],\n",
              "       [0.5145356 ],\n",
              "       [0.49365607],\n",
              "       [0.50973146],\n",
              "       [0.51318059],\n",
              "       [0.48066026],\n",
              "       [0.47142153],\n",
              "       [0.50835792],\n",
              "       [0.53547672],\n",
              "       [0.54534989],\n",
              "       [0.53301306],\n",
              "       [0.53252033],\n",
              "       [0.52821505],\n",
              "       [0.52069475],\n",
              "       [0.52069475],\n",
              "       [0.53252033],\n",
              "       [0.53178123],\n",
              "       [0.52746982],\n",
              "       [0.53497172],\n",
              "       [0.55272235],\n",
              "       [0.54109382],\n",
              "       [0.5428677 ],\n",
              "       [0.54779502],\n",
              "       [0.54779502],\n",
              "       [0.55740944],\n",
              "       [0.55949741],\n",
              "       [0.56195494],\n",
              "       [0.57661986],\n",
              "       [0.57181572],\n",
              "       [0.58326561],\n",
              "       [0.53301306],\n",
              "       [0.47573294],\n",
              "       [0.43951712],\n",
              "       [0.42830746],\n",
              "       [0.44050259],\n",
              "       [0.4159953 ],\n",
              "       [0.43834688],\n",
              "       [0.43446662],\n",
              "       [0.45169997],\n",
              "       [0.46390737],\n",
              "       [0.47129835],\n",
              "       [0.47196359],\n",
              "       [0.46526238],\n",
              "       [0.45171224],\n",
              "       [0.40754499],\n",
              "       [0.44592264],\n",
              "       [0.41475733],\n",
              "       [0.39996923],\n",
              "       [0.38511328],\n",
              "       [0.40969455],\n",
              "       [0.43791574],\n",
              "       [0.46624784],\n",
              "       [0.45926334],\n",
              "       [0.41906874],\n",
              "       [0.42912042],\n",
              "       [0.46278645],\n",
              "       [0.44592264],\n",
              "       [0.4363205 ],\n",
              "       [0.44249818],\n",
              "       [0.45798844],\n",
              "       [0.48853171],\n",
              "       [0.49359448],\n",
              "       [0.49355755],\n",
              "       [0.48952944],\n",
              "       [0.50332594],\n",
              "       [0.48805738],\n",
              "       [0.49593496],\n",
              "       [0.48238482],\n",
              "       [0.47049766],\n",
              "       [0.47080562],\n",
              "       [0.4674674 ],\n",
              "       [0.49605814],\n",
              "       [0.49605814],\n",
              "       [0.51901951],\n",
              "       [0.49174674],\n",
              "       [0.48866716],\n",
              "       [0.48466371],\n",
              "       [0.48250801],\n",
              "       [0.47770387],\n",
              "       [0.48373984],\n",
              "       [0.48435575],\n",
              "       [0.45294407],\n",
              "       [0.42214831],\n",
              "       [0.42233309],\n",
              "       [0.43295763],\n",
              "       [0.40921409],\n",
              "       [0.41868692],\n",
              "       [0.40514905],\n",
              "       [0.41106184],\n",
              "       [0.4222715 ],\n",
              "       [0.41385812],\n",
              "       [0.40982387],\n",
              "       [0.45663957],\n",
              "       [0.47757455],\n",
              "       [0.45295021],\n",
              "       [0.47733432],\n",
              "       [0.47302291],\n",
              "       [0.46526238],\n",
              "       [0.50098546],\n",
              "       [0.51145602],\n",
              "       [0.51764597],\n",
              "       [0.53917221],\n",
              "       [0.55747716],\n",
              "       [0.56996797],\n",
              "       [0.56409825],\n",
              "       [0.5711998 ],\n",
              "       [0.57084252],\n",
              "       [0.58906135],\n",
              "       [0.57908352],\n",
              "       [0.57243163],\n",
              "       [0.57187731],\n",
              "       [0.56491747],\n",
              "       [0.55827172],\n",
              "       [0.55505055],\n",
              "       [0.57157549],\n",
              "       [0.58351811],\n",
              "       [0.56996797],\n",
              "       [0.57982875],\n",
              "       [0.58302538],\n",
              "       [0.59587334],\n",
              "       [0.58992363],\n",
              "       [0.61727026],\n",
              "       [0.60199557],\n",
              "       [0.6148066 ],\n",
              "       [0.59583641],\n",
              "       [0.61061224],\n",
              "       [0.6104952 ],\n",
              "       [0.59704358],\n",
              "       [0.58413402],\n",
              "       [0.5729305 ],\n",
              "       [0.55851195],\n",
              "       [0.58093126],\n",
              "       [0.57390983],\n",
              "       [0.58302538],\n",
              "       [0.58558756],\n",
              "       [0.57611485],\n",
              "       [0.55864127],\n",
              "       [0.53362897],\n",
              "       [0.55764967],\n",
              "       [0.55875831],\n",
              "       [0.56072924],\n",
              "       [0.56996797],\n",
              "       [0.57906499],\n",
              "       [0.5576558 ],\n",
              "       [0.57785169],\n",
              "       [0.54841094],\n",
              "       [0.56109879],\n",
              "       [0.58351811],\n",
              "       [0.59337275],\n",
              "       [0.59460458],\n",
              "       [0.59214092],\n",
              "       [0.6145849 ],\n",
              "       [0.60611606],\n",
              "       [0.63154723],\n",
              "       [0.63032767],\n",
              "       [0.63328406],\n",
              "       [0.6155457 ],\n",
              "       [0.69807834],\n",
              "       [0.68077113],\n",
              "       [0.69583025],\n",
              "       [0.66286026],\n",
              "       [0.68637595],\n",
              "       [0.69844789],\n",
              "       [0.7085489 ],\n",
              "       [0.72148312],\n",
              "       [0.70543853],\n",
              "       [0.67837519],\n",
              "       [0.69931017],\n",
              "       [0.69676026],\n",
              "       [0.72258564],\n",
              "       [0.7148867 ],\n",
              "       [0.68945553],\n",
              "       [0.68229864],\n",
              "       [0.71286645],\n",
              "       [0.72320769],\n",
              "       [0.71040278],\n",
              "       [0.71101256],\n",
              "       [0.82865238],\n",
              "       [0.83111604],\n",
              "       [0.79465386],\n",
              "       [0.809559  ],\n",
              "       [0.845898  ],\n",
              "       [0.83359197],\n",
              "       [0.85193397],\n",
              "       [0.82618872],\n",
              "       [0.83998522],\n",
              "       [0.80502589],\n",
              "       [0.82187731],\n",
              "       [0.84799212],\n",
              "       [0.84341582],\n",
              "       [0.882237  ],\n",
              "       [0.88434339],\n",
              "       [0.87791333],\n",
              "       [0.9127864 ],\n",
              "       [0.92955157],\n",
              "       [0.97499384],\n",
              "       [1.        ],\n",
              "       [0.99113082],\n",
              "       [0.96156689],\n",
              "       [0.98078344],\n",
              "       [0.97253018],\n",
              "       [0.97487066],\n",
              "       [0.98510099],\n",
              "       [0.98226164],\n",
              "       [0.98736147],\n",
              "       [0.96908105],\n",
              "       [0.94875585],\n",
              "       [0.95306726],\n",
              "       [0.95799458],\n",
              "       [0.92596699],\n",
              "       [0.87896652],\n",
              "       [0.89640305],\n",
              "       [0.89786273],\n",
              "       [0.90870909],\n",
              "       [0.87915743],\n",
              "       [0.88001971],\n",
              "       [0.89517122],\n",
              "       [0.88901207],\n",
              "       [0.89617521],\n",
              "       [0.9147388 ],\n",
              "       [0.9345898 ],\n",
              "       [0.94389012],\n",
              "       [0.95171224],\n",
              "       [0.92152626],\n",
              "       [0.93376445],\n",
              "       [0.9062577 ],\n",
              "       [0.91434471],\n",
              "       [0.90268539],\n",
              "       [0.89393939],\n",
              "       [0.8932003 ],\n",
              "       [0.87903424],\n",
              "       [0.87510466],\n",
              "       [0.88901207],\n",
              "       [0.89763489],\n",
              "       [0.89207938],\n",
              "       [0.8902439 ],\n",
              "       [0.88925844],\n",
              "       [0.89763489],\n",
              "       [0.96242917],\n",
              "       [0.93705346],\n",
              "       [0.93951712],\n",
              "       [0.94552843],\n",
              "       [0.9493595 ]])"
            ]
          },
          "metadata": {},
          "execution_count": 11
        }
      ]
    },
    {
      "cell_type": "code",
      "source": [
        "training_set_scaled.shape"
      ],
      "metadata": {
        "colab": {
          "base_uri": "https://localhost:8080/"
        },
        "id": "TKxL1uaAhxAb",
        "outputId": "a4ab673a-9f84-468a-fe0b-c12452a50bfd"
      },
      "execution_count": null,
      "outputs": [
        {
          "output_type": "execute_result",
          "data": {
            "text/plain": [
              "(488, 1)"
            ]
          },
          "metadata": {},
          "execution_count": 12
        }
      ]
    },
    {
      "cell_type": "code",
      "source": [
        "rolling_window = 30"
      ],
      "metadata": {
        "id": "iL9sPT1PjpAB"
      },
      "execution_count": null,
      "outputs": []
    },
    {
      "cell_type": "code",
      "metadata": {
        "colab": {
          "base_uri": "https://localhost:8080/"
        },
        "id": "1T1_z6HFAIIC",
        "outputId": "730e638f-aca9-441e-f4ce-3a7cb564dcb7"
      },
      "source": [
        "#creating a data structure with 60 points as inputs and point as output in a rolling fashion\n",
        "X_train = []\n",
        "Y_train = []\n",
        "for i in range (rolling_window,training_set_scaled.shape[0]):\n",
        "  #0 says the first element --removing the brackets-- 0th column\n",
        "  X_train.append(training_set_scaled[i-rolling_window:i,0])\n",
        "  Y_train.append(training_set_scaled[i,0])\n",
        "\n",
        "X_train, Y_train = np.array(X_train) , np.array(Y_train)\n",
        "X_train"
      ],
      "execution_count": null,
      "outputs": [
        {
          "output_type": "execute_result",
          "data": {
            "text/plain": [
              "array([[0.11419069, 0.10864745, 0.11419069, ..., 0.00505051, 0.        ,\n",
              "        0.00307958],\n",
              "       [0.10864745, 0.11419069, 0.10987928, ..., 0.        , 0.00307958,\n",
              "        0.02796255],\n",
              "       [0.11419069, 0.10987928, 0.10757573, ..., 0.00307958, 0.02796255,\n",
              "        0.06491747],\n",
              "       ...,\n",
              "       [0.87896652, 0.89640305, 0.89786273, ..., 0.89763489, 0.96242917,\n",
              "        0.93705346],\n",
              "       [0.89640305, 0.89786273, 0.90870909, ..., 0.96242917, 0.93705346,\n",
              "        0.93951712],\n",
              "       [0.89786273, 0.90870909, 0.87915743, ..., 0.93705346, 0.93951712,\n",
              "        0.94552843]])"
            ]
          },
          "metadata": {},
          "execution_count": 14
        }
      ]
    },
    {
      "cell_type": "code",
      "metadata": {
        "colab": {
          "base_uri": "https://localhost:8080/"
        },
        "id": "AI_sqWyRB697",
        "outputId": "b3775908-24e5-48eb-a041-324937d86376"
      },
      "source": [
        "#reshape (not used iloc so we need to reshape)\n",
        "X_train = np.reshape(X_train,(X_train.shape[0],X_train.shape[1],1))\n",
        "X_train"
      ],
      "execution_count": null,
      "outputs": [
        {
          "output_type": "execute_result",
          "data": {
            "text/plain": [
              "array([[[0.11419069],\n",
              "        [0.10864745],\n",
              "        [0.11419069],\n",
              "        ...,\n",
              "        [0.00505051],\n",
              "        [0.        ],\n",
              "        [0.00307958]],\n",
              "\n",
              "       [[0.10864745],\n",
              "        [0.11419069],\n",
              "        [0.10987928],\n",
              "        ...,\n",
              "        [0.        ],\n",
              "        [0.00307958],\n",
              "        [0.02796255]],\n",
              "\n",
              "       [[0.11419069],\n",
              "        [0.10987928],\n",
              "        [0.10757573],\n",
              "        ...,\n",
              "        [0.00307958],\n",
              "        [0.02796255],\n",
              "        [0.06491747]],\n",
              "\n",
              "       ...,\n",
              "\n",
              "       [[0.87896652],\n",
              "        [0.89640305],\n",
              "        [0.89786273],\n",
              "        ...,\n",
              "        [0.89763489],\n",
              "        [0.96242917],\n",
              "        [0.93705346]],\n",
              "\n",
              "       [[0.89640305],\n",
              "        [0.89786273],\n",
              "        [0.90870909],\n",
              "        ...,\n",
              "        [0.96242917],\n",
              "        [0.93705346],\n",
              "        [0.93951712]],\n",
              "\n",
              "       [[0.89786273],\n",
              "        [0.90870909],\n",
              "        [0.87915743],\n",
              "        ...,\n",
              "        [0.93705346],\n",
              "        [0.93951712],\n",
              "        [0.94552843]]])"
            ]
          },
          "metadata": {},
          "execution_count": 15
        }
      ]
    },
    {
      "cell_type": "code",
      "metadata": {
        "colab": {
          "base_uri": "https://localhost:8080/"
        },
        "id": "0bP_hPDsDjdp",
        "outputId": "db6da3df-3ee7-481d-9fe7-21fcf8fcf729"
      },
      "source": [
        "X_train.shape\n",
        "#putting just one value to the model that is why we reshaped the data, as 1198(rows), 60(cols), 1 (only one value)"
      ],
      "execution_count": null,
      "outputs": [
        {
          "output_type": "execute_result",
          "data": {
            "text/plain": [
              "(458, 30, 1)"
            ]
          },
          "metadata": {},
          "execution_count": 16
        }
      ]
    },
    {
      "cell_type": "markdown",
      "metadata": {
        "id": "4ysLCbhhCg0C"
      },
      "source": [
        "# Part 2 - Building an RNN"
      ]
    },
    {
      "cell_type": "code",
      "metadata": {
        "id": "H_dfc41ZCmzT"
      },
      "source": [
        "#importing relevant packages\n",
        "from keras.models import Sequential\n",
        "from keras.layers import Dense, LSTM, Dropout, SimpleRNN"
      ],
      "execution_count": null,
      "outputs": []
    },
    {
      "cell_type": "code",
      "source": [
        "#RNN Model\n",
        "RNNmodel = Sequential()\n",
        "RNNmodel.add(SimpleRNN(50,activation='tanh',return_sequences = True,input_shape = (X_train.shape[1],1)))\n",
        "RNNmodel.add(Dropout(0.2))"
      ],
      "metadata": {
        "id": "kUOajwyamA-l"
      },
      "execution_count": null,
      "outputs": []
    },
    {
      "cell_type": "code",
      "source": [
        "RNNmodel.add(SimpleRNN(50,activation='tanh', return_sequences = True))\n",
        "RNNmodel.add(Dropout(0.2))"
      ],
      "metadata": {
        "id": "f0MtHIK4mAyv"
      },
      "execution_count": null,
      "outputs": []
    },
    {
      "cell_type": "code",
      "source": [
        "#return sequense changed to false\n",
        "RNNmodel.add(SimpleRNN(50,activation='tanh'))\n",
        "RNNmodel.add(Dropout(0.2))"
      ],
      "metadata": {
        "id": "Mi1l44U3oYoE"
      },
      "execution_count": null,
      "outputs": []
    },
    {
      "cell_type": "code",
      "source": [
        "RNNmodel.add(Dense(50,activation='tanh'))\n",
        "RNNmodel.add(Dropout(0.2))"
      ],
      "metadata": {
        "id": "0pjRGGBXolbG"
      },
      "execution_count": null,
      "outputs": []
    },
    {
      "cell_type": "code",
      "source": [
        "#Output\n",
        "RNNmodel.add(Dense(units=1))"
      ],
      "metadata": {
        "id": "CPnKGudHmA7N"
      },
      "execution_count": null,
      "outputs": []
    },
    {
      "cell_type": "code",
      "source": [
        "RNNmodel.summary()"
      ],
      "metadata": {
        "colab": {
          "base_uri": "https://localhost:8080/"
        },
        "id": "kiJT9pj92ArL",
        "outputId": "23fedc7d-d07f-4df9-cd5a-e1a380eded4a"
      },
      "execution_count": null,
      "outputs": [
        {
          "output_type": "stream",
          "name": "stdout",
          "text": [
            "Model: \"sequential_3\"\n",
            "_________________________________________________________________\n",
            " Layer (type)                Output Shape              Param #   \n",
            "=================================================================\n",
            " simple_rnn_9 (SimpleRNN)    (None, 30, 50)            2600      \n",
            "                                                                 \n",
            " dropout_12 (Dropout)        (None, 30, 50)            0         \n",
            "                                                                 \n",
            " simple_rnn_10 (SimpleRNN)   (None, 30, 50)            5050      \n",
            "                                                                 \n",
            " dropout_13 (Dropout)        (None, 30, 50)            0         \n",
            "                                                                 \n",
            " simple_rnn_11 (SimpleRNN)   (None, 50)                5050      \n",
            "                                                                 \n",
            " dropout_14 (Dropout)        (None, 50)                0         \n",
            "                                                                 \n",
            " dense_6 (Dense)             (None, 50)                2550      \n",
            "                                                                 \n",
            " dropout_15 (Dropout)        (None, 50)                0         \n",
            "                                                                 \n",
            " dense_7 (Dense)             (None, 1)                 51        \n",
            "                                                                 \n",
            "=================================================================\n",
            "Total params: 15,301\n",
            "Trainable params: 15,301\n",
            "Non-trainable params: 0\n",
            "_________________________________________________________________\n"
          ]
        }
      ]
    },
    {
      "cell_type": "code",
      "source": [
        "RNNmodel.compile(optimizer = 'Adam', loss = 'mean_squared_error')"
      ],
      "metadata": {
        "id": "C6iSj7pZmA4e"
      },
      "execution_count": null,
      "outputs": []
    },
    {
      "cell_type": "code",
      "source": [
        "RNNmodel.fit(X_train,Y_train,epochs= 60 ,batch_size=32)"
      ],
      "metadata": {
        "id": "59ar0UJ7mA1z",
        "colab": {
          "base_uri": "https://localhost:8080/"
        },
        "outputId": "4f32cc28-ef21-4f9a-ffaa-de2107297d30"
      },
      "execution_count": null,
      "outputs": [
        {
          "output_type": "stream",
          "name": "stdout",
          "text": [
            "Epoch 1/60\n",
            "15/15 [==============================] - 2s 20ms/step - loss: 0.3353\n",
            "Epoch 2/60\n",
            "15/15 [==============================] - 0s 20ms/step - loss: 0.1763\n",
            "Epoch 3/60\n",
            "15/15 [==============================] - 0s 19ms/step - loss: 0.1370\n",
            "Epoch 4/60\n",
            "15/15 [==============================] - 0s 21ms/step - loss: 0.1173\n",
            "Epoch 5/60\n",
            "15/15 [==============================] - 0s 19ms/step - loss: 0.0972\n",
            "Epoch 6/60\n",
            "15/15 [==============================] - 0s 19ms/step - loss: 0.0757\n",
            "Epoch 7/60\n",
            "15/15 [==============================] - 0s 21ms/step - loss: 0.0713\n",
            "Epoch 8/60\n",
            "15/15 [==============================] - 0s 20ms/step - loss: 0.0508\n",
            "Epoch 9/60\n",
            "15/15 [==============================] - 0s 19ms/step - loss: 0.0617\n",
            "Epoch 10/60\n",
            "15/15 [==============================] - 0s 19ms/step - loss: 0.0514\n",
            "Epoch 11/60\n",
            "15/15 [==============================] - 0s 21ms/step - loss: 0.0430\n",
            "Epoch 12/60\n",
            "15/15 [==============================] - 0s 20ms/step - loss: 0.0484\n",
            "Epoch 13/60\n",
            "15/15 [==============================] - 0s 19ms/step - loss: 0.0428\n",
            "Epoch 14/60\n",
            "15/15 [==============================] - 0s 21ms/step - loss: 0.0403\n",
            "Epoch 15/60\n",
            "15/15 [==============================] - 0s 19ms/step - loss: 0.0490\n",
            "Epoch 16/60\n",
            "15/15 [==============================] - 0s 19ms/step - loss: 0.0360\n",
            "Epoch 17/60\n",
            "15/15 [==============================] - 0s 20ms/step - loss: 0.0340\n",
            "Epoch 18/60\n",
            "15/15 [==============================] - 0s 20ms/step - loss: 0.0306\n",
            "Epoch 19/60\n",
            "15/15 [==============================] - 0s 19ms/step - loss: 0.0308\n",
            "Epoch 20/60\n",
            "15/15 [==============================] - 0s 19ms/step - loss: 0.0320\n",
            "Epoch 21/60\n",
            "15/15 [==============================] - 0s 21ms/step - loss: 0.0245\n",
            "Epoch 22/60\n",
            "15/15 [==============================] - 0s 19ms/step - loss: 0.0257\n",
            "Epoch 23/60\n",
            "15/15 [==============================] - 0s 20ms/step - loss: 0.0262\n",
            "Epoch 24/60\n",
            "15/15 [==============================] - 0s 20ms/step - loss: 0.0247\n",
            "Epoch 25/60\n",
            "15/15 [==============================] - 0s 20ms/step - loss: 0.0193\n",
            "Epoch 26/60\n",
            "15/15 [==============================] - 0s 20ms/step - loss: 0.0230\n",
            "Epoch 27/60\n",
            "15/15 [==============================] - 0s 20ms/step - loss: 0.0204\n",
            "Epoch 28/60\n",
            "15/15 [==============================] - 0s 20ms/step - loss: 0.0194\n",
            "Epoch 29/60\n",
            "15/15 [==============================] - 0s 20ms/step - loss: 0.0202\n",
            "Epoch 30/60\n",
            "15/15 [==============================] - 0s 20ms/step - loss: 0.0174\n",
            "Epoch 31/60\n",
            "15/15 [==============================] - 0s 20ms/step - loss: 0.0188\n",
            "Epoch 32/60\n",
            "15/15 [==============================] - 0s 20ms/step - loss: 0.0171\n",
            "Epoch 33/60\n",
            "15/15 [==============================] - 0s 20ms/step - loss: 0.0192\n",
            "Epoch 34/60\n",
            "15/15 [==============================] - 0s 21ms/step - loss: 0.0151\n",
            "Epoch 35/60\n",
            "15/15 [==============================] - 0s 19ms/step - loss: 0.0135\n",
            "Epoch 36/60\n",
            "15/15 [==============================] - 0s 19ms/step - loss: 0.0130\n",
            "Epoch 37/60\n",
            "15/15 [==============================] - 0s 20ms/step - loss: 0.0133\n",
            "Epoch 38/60\n",
            "15/15 [==============================] - 0s 20ms/step - loss: 0.0133\n",
            "Epoch 39/60\n",
            "15/15 [==============================] - 0s 19ms/step - loss: 0.0127\n",
            "Epoch 40/60\n",
            "15/15 [==============================] - 0s 21ms/step - loss: 0.0127\n",
            "Epoch 41/60\n",
            "15/15 [==============================] - 0s 20ms/step - loss: 0.0107\n",
            "Epoch 42/60\n",
            "15/15 [==============================] - 0s 20ms/step - loss: 0.0129\n",
            "Epoch 43/60\n",
            "15/15 [==============================] - 0s 19ms/step - loss: 0.0116\n",
            "Epoch 44/60\n",
            "15/15 [==============================] - 0s 20ms/step - loss: 0.0107\n",
            "Epoch 45/60\n",
            "15/15 [==============================] - 0s 19ms/step - loss: 0.0107\n",
            "Epoch 46/60\n",
            "15/15 [==============================] - 0s 19ms/step - loss: 0.0110\n",
            "Epoch 47/60\n",
            "15/15 [==============================] - 0s 20ms/step - loss: 0.0089\n",
            "Epoch 48/60\n",
            "15/15 [==============================] - 0s 21ms/step - loss: 0.0097\n",
            "Epoch 49/60\n",
            "15/15 [==============================] - 0s 19ms/step - loss: 0.0089\n",
            "Epoch 50/60\n",
            "15/15 [==============================] - 0s 20ms/step - loss: 0.0088\n",
            "Epoch 51/60\n",
            "15/15 [==============================] - 0s 20ms/step - loss: 0.0087\n",
            "Epoch 52/60\n",
            "15/15 [==============================] - 0s 20ms/step - loss: 0.0092\n",
            "Epoch 53/60\n",
            "15/15 [==============================] - 0s 20ms/step - loss: 0.0079\n",
            "Epoch 54/60\n",
            "15/15 [==============================] - 0s 20ms/step - loss: 0.0083\n",
            "Epoch 55/60\n",
            "15/15 [==============================] - 0s 20ms/step - loss: 0.0080\n",
            "Epoch 56/60\n",
            "15/15 [==============================] - 0s 19ms/step - loss: 0.0068\n",
            "Epoch 57/60\n",
            "15/15 [==============================] - 0s 20ms/step - loss: 0.0070\n",
            "Epoch 58/60\n",
            "15/15 [==============================] - 0s 20ms/step - loss: 0.0066\n",
            "Epoch 59/60\n",
            "15/15 [==============================] - 0s 19ms/step - loss: 0.0063\n",
            "Epoch 60/60\n",
            "15/15 [==============================] - 0s 19ms/step - loss: 0.0069\n"
          ]
        },
        {
          "output_type": "execute_result",
          "data": {
            "text/plain": [
              "<keras.callbacks.History at 0x7f890260b7d0>"
            ]
          },
          "metadata": {},
          "execution_count": 84
        }
      ]
    },
    {
      "cell_type": "markdown",
      "source": [
        "### Prediction of Stock Prices on Test Data1"
      ],
      "metadata": {
        "id": "TtGm40CpqTvC"
      }
    },
    {
      "cell_type": "code",
      "source": [
        "real_stock_values.shape"
      ],
      "metadata": {
        "id": "CvYuori5qaBy",
        "colab": {
          "base_uri": "https://localhost:8080/"
        },
        "outputId": "4c4aae55-34dc-4229-c837-df9ce5073d70"
      },
      "execution_count": null,
      "outputs": [
        {
          "output_type": "execute_result",
          "data": {
            "text/plain": [
              "(62, 1)"
            ]
          },
          "metadata": {},
          "execution_count": 85
        }
      ]
    },
    {
      "cell_type": "code",
      "source": [
        "#get the predicted for the etst data that is 2017 jan\n",
        "dataset_total = pd.concat((data_train['Open'],dataset_test1['Open']),axis = 0)\n",
        "inputs = dataset_total[len(dataset_total)- len(dataset_test1)-rolling_window:].values\n",
        "inputs = inputs.reshape(-1,1)\n",
        "inputs = sc.transform(inputs)\n",
        "X_test = []\n",
        "for i in range(rolling_window,(rolling_window+real_stock_values.shape[0])):\n",
        "  X_test.append(inputs[i-rolling_window:i,0])\n",
        "\n",
        "X_test = np.array(X_test)\n",
        "X_test = np.reshape(X_test,(X_test.shape[0], X_test.shape[1],1))\n",
        "predicted_stock_price = RNNmodel.predict(X_test)\n",
        "predicted_stock_price = sc.inverse_transform(predicted_stock_price)"
      ],
      "metadata": {
        "id": "CUbDX_cdqjxU"
      },
      "execution_count": null,
      "outputs": []
    },
    {
      "cell_type": "code",
      "source": [
        "predicted_stock_price.shape"
      ],
      "metadata": {
        "id": "XNhxCXSGqncw",
        "colab": {
          "base_uri": "https://localhost:8080/"
        },
        "outputId": "78011542-c380-448a-ac50-a29dd141b6e5"
      },
      "execution_count": null,
      "outputs": [
        {
          "output_type": "execute_result",
          "data": {
            "text/plain": [
              "(62, 1)"
            ]
          },
          "metadata": {},
          "execution_count": 87
        }
      ]
    },
    {
      "cell_type": "code",
      "source": [
        "#visualize the predictions and see where our model stands and how far off we are\n",
        "plt.plot(real_stock_values,color = 'red', label = 'real Nestle stock price')\n",
        "plt.plot(predicted_stock_price,color = 'blue', label = 'predicted Nestle stock price')\n",
        "plt.title(\"Nestle Stock Price Prediction\")\n",
        "plt.xlabel(\"time\")\n",
        "plt.ylabel('Nestle Stock price')\n",
        "plt.legend()\n",
        "plt.show()"
      ],
      "metadata": {
        "id": "6i3MZTXIqpk1",
        "colab": {
          "base_uri": "https://localhost:8080/",
          "height": 295
        },
        "outputId": "8149148e-aa04-4999-810f-3f2ef8b8ed19"
      },
      "execution_count": null,
      "outputs": [
        {
          "output_type": "display_data",
          "data": {
            "image/png": "[encoded data removed]",
            "text/plain": [
              "<Figure size 432x288 with 1 Axes>"
            ]
          },
          "metadata": {
            "needs_background": "light"
          }
        }
      ]
    },
    {
      "cell_type": "code",
      "source": [
        "# RMSE EVALUATION For RNN MODEL\n",
        "import math\n",
        "from sklearn.metrics import mean_squared_error\n",
        "rmse = math.sqrt(mean_squared_error(real_stock_values, predicted_stock_price))\n",
        "print(\"Total model error is\", rmse)"
      ],
      "metadata": {
        "id": "9CtxglNAqsB0",
        "colab": {
          "base_uri": "https://localhost:8080/"
        },
        "outputId": "8887b691-630c-45fc-c27d-f275874f95f3"
      },
      "execution_count": null,
      "outputs": [
        {
          "output_type": "stream",
          "name": "stdout",
          "text": [
            "Total model error is 613.9935343749743\n"
          ]
        }
      ]
    },
    {
      "cell_type": "markdown",
      "source": [
        "### Prediction of stocks on Testdata 2"
      ],
      "metadata": {
        "id": "DarQn-ex2w_P"
      }
    },
    {
      "cell_type": "code",
      "source": [
        "real_stock_values2.shape"
      ],
      "metadata": {
        "colab": {
          "base_uri": "https://localhost:8080/"
        },
        "id": "f1wxnL8U2xks",
        "outputId": "5d4a57b7-a4af-488a-fcac-9d75db594b04"
      },
      "execution_count": null,
      "outputs": [
        {
          "output_type": "execute_result",
          "data": {
            "text/plain": [
              "(58, 1)"
            ]
          },
          "metadata": {},
          "execution_count": 90
        }
      ]
    },
    {
      "cell_type": "code",
      "source": [
        "#get the predicted for the etst data that is 2017 jan\n",
        "dataset_total = pd.concat((data_train['Open'],dataset_test1['Open'],dataset_test2['Open']),axis = 0)\n",
        "inputs = dataset_total[len(dataset_total)- len(dataset_test1)-len(dataset_test2)-rolling_window:].values\n",
        "inputs = inputs.reshape(-1,1)\n",
        "inputs = sc.transform(inputs)\n",
        "X_test2 = []\n",
        "upper_limit = rolling_window + real_stock_values2.shape[0]\n",
        "for i in range(rolling_window,upper_limit):\n",
        "  X_test2.append(inputs[i-rolling_window:i,0])\n",
        "\n",
        "X_test2 = np.array(X_test2)\n",
        "X_test2 = np.reshape(X_test2,(X_test2.shape[0], X_test2.shape[1],1))\n",
        "predicted_stock_price2 = RNNmodel.predict(X_test2)\n",
        "predicted_stock_price2 = sc.inverse_transform(predicted_stock_price2)"
      ],
      "metadata": {
        "id": "-LnTPgxL2yyK"
      },
      "execution_count": null,
      "outputs": []
    },
    {
      "cell_type": "code",
      "source": [
        "predicted_stock_price2.shape"
      ],
      "metadata": {
        "colab": {
          "base_uri": "https://localhost:8080/"
        },
        "id": "z9HO7E2-2yl7",
        "outputId": "7ef8a1d9-fd57-421f-ec6f-2cad30017ebc"
      },
      "execution_count": null,
      "outputs": [
        {
          "output_type": "execute_result",
          "data": {
            "text/plain": [
              "(58, 1)"
            ]
          },
          "metadata": {},
          "execution_count": 92
        }
      ]
    },
    {
      "cell_type": "code",
      "source": [
        "#visualize the predictions and see where our model stands and how far off we are\n",
        "plt.plot(real_stock_values2,color = 'red', label = 'real Nestle stock price')\n",
        "plt.plot(predicted_stock_price2,color = 'blue', label = 'predicted Nestle stock price')\n",
        "plt.title(\"Nestle Stock Price Prediction\")\n",
        "plt.xlabel(\"time\")\n",
        "plt.ylabel('Nestle Stock price')\n",
        "plt.legend(loc = 'best')\n",
        "plt.show()"
      ],
      "metadata": {
        "colab": {
          "base_uri": "https://localhost:8080/",
          "height": 295
        },
        "id": "RlIgadZ82yXT",
        "outputId": "6fe46398-3dc3-4b90-99d2-13a64fd1b3a2"
      },
      "execution_count": null,
      "outputs": [
        {
          "output_type": "display_data",
          "data": {
            "image/png": "[encoded data removed]",
            "text/plain": [
              "<Figure size 432x288 with 1 Axes>"
            ]
          },
          "metadata": {
            "needs_background": "light"
          }
        }
      ]
    },
    {
      "cell_type": "code",
      "source": [
        "import math\n",
        "from sklearn.metrics import mean_squared_error\n",
        "rmse2 = math.sqrt(mean_squared_error(real_stock_values2, predicted_stock_price2))\n",
        "print(\"Total model error is - \", rmse2)"
      ],
      "metadata": {
        "colab": {
          "base_uri": "https://localhost:8080/"
        },
        "id": "C1GPGSjz28M5",
        "outputId": "38d477e7-e9f2-434d-f422-204c7db55aee"
      },
      "execution_count": null,
      "outputs": [
        {
          "output_type": "stream",
          "name": "stdout",
          "text": [
            "Total model error is -  1822.3332839070945\n"
          ]
        }
      ]
    },
    {
      "cell_type": "markdown",
      "source": [
        "epochs -100 \n",
        "rmse \n",
        "test 1 -- 763\n",
        "test 2 -- 2111\n",
        "\n",
        "epochs 75\n",
        "rmse\n",
        "test 1 -- 604\n",
        "test 2 -- 1573\n",
        "\n",
        "epochs 60 \n",
        "rmse\n",
        "test1 -- 593\n",
        "test2 -- 1568\n",
        "\n",
        "epochs 55\n",
        "rmse\n",
        "test1 -- 668\n",
        "test2 --1780"
      ],
      "metadata": {
        "id": "AwQIGAKXFTQ8"
      }
    },
    {
      "cell_type": "markdown",
      "source": [
        "# Building an LSTM"
      ],
      "metadata": {
        "id": "faiYY453l3sj"
      }
    },
    {
      "cell_type": "code",
      "metadata": {
        "id": "MYT2TZRjFB9s"
      },
      "source": [
        "#initialise RNN\n",
        "regressor = Sequential()"
      ],
      "execution_count": null,
      "outputs": []
    },
    {
      "cell_type": "code",
      "metadata": {
        "id": "0BKXUDJFFKSS"
      },
      "source": [
        "#add dense when you add output layer\n",
        "#add first lstm layer\n",
        "regressor.add(LSTM(units = 50, return_sequences = True, input_shape = (X_train.shape[1],1)))\n",
        "regressor.add(Dropout(0.25))"
      ],
      "execution_count": null,
      "outputs": []
    },
    {
      "cell_type": "code",
      "metadata": {
        "id": "YGdzYMURFy65"
      },
      "source": [
        "#adding second LSTM layer\n",
        "regressor.add(LSTM(units = 50, return_sequences= True))\n",
        "regressor.add(Dropout(0.25))"
      ],
      "execution_count": null,
      "outputs": []
    },
    {
      "cell_type": "code",
      "metadata": {
        "id": "PH9UpOOgGAaa"
      },
      "source": [
        "#adding the third layer\n",
        "regressor.add(LSTM(units = 50, return_sequences= True))\n",
        "regressor.add(Dropout(0.5))"
      ],
      "execution_count": null,
      "outputs": []
    },
    {
      "cell_type": "code",
      "source": [
        "#adding the 4th layer\n",
        "regressor.add(LSTM(units = 50, return_sequences= True))\n",
        "regressor.add(Dropout(0.5))"
      ],
      "metadata": {
        "id": "zJ6si7mXdxqc"
      },
      "execution_count": null,
      "outputs": []
    },
    {
      "cell_type": "code",
      "metadata": {
        "id": "BcxNF5yOGKne"
      },
      "source": [
        "#adding 5th LSTM layer\n",
        "#last layer would not have return sequence of errors\n",
        "regressor.add(LSTM(units = 50))\n",
        "regressor.add(Dropout(0.5))"
      ],
      "execution_count": null,
      "outputs": []
    },
    {
      "cell_type": "code",
      "metadata": {
        "id": "wum0MPyGULkU"
      },
      "source": [
        "#output dense layer\n",
        "regressor.add(Dense(units = 1))"
      ],
      "execution_count": null,
      "outputs": []
    },
    {
      "cell_type": "code",
      "metadata": {
        "id": "HDdmeZ3oGees"
      },
      "source": [
        "#compiling rnn\n",
        "regressor.compile(optimizer='adam',loss = 'mean_squared_error')"
      ],
      "execution_count": null,
      "outputs": []
    },
    {
      "cell_type": "code",
      "metadata": {
        "id": "J2YeybOMGu4E",
        "colab": {
          "base_uri": "https://localhost:8080/"
        },
        "outputId": "1b1e607f-1676-4664-ccd9-b7976f5f9642"
      },
      "source": [
        "regressor.fit(X_train,Y_train, epochs = 60 , batch_size = 32)"
      ],
      "execution_count": null,
      "outputs": [
        {
          "output_type": "stream",
          "name": "stdout",
          "text": [
            "Epoch 1/60\n",
            "15/15 [==============================] - 10s 72ms/step - loss: 0.0736\n",
            "Epoch 2/60\n",
            "15/15 [==============================] - 1s 74ms/step - loss: 0.0254\n",
            "Epoch 3/60\n",
            "15/15 [==============================] - 1s 75ms/step - loss: 0.0152\n",
            "Epoch 4/60\n",
            "15/15 [==============================] - 1s 74ms/step - loss: 0.0142\n",
            "Epoch 5/60\n",
            "15/15 [==============================] - 1s 74ms/step - loss: 0.0168\n",
            "Epoch 6/60\n",
            "15/15 [==============================] - 1s 75ms/step - loss: 0.0171\n",
            "Epoch 7/60\n",
            "15/15 [==============================] - 1s 75ms/step - loss: 0.0117\n",
            "Epoch 8/60\n",
            "15/15 [==============================] - 1s 75ms/step - loss: 0.0144\n",
            "Epoch 9/60\n",
            "15/15 [==============================] - 1s 76ms/step - loss: 0.0137\n",
            "Epoch 10/60\n",
            "15/15 [==============================] - 1s 75ms/step - loss: 0.0134\n",
            "Epoch 11/60\n",
            "15/15 [==============================] - 1s 74ms/step - loss: 0.0143\n",
            "Epoch 12/60\n",
            "15/15 [==============================] - 1s 74ms/step - loss: 0.0140\n",
            "Epoch 13/60\n",
            "15/15 [==============================] - 1s 74ms/step - loss: 0.0137\n",
            "Epoch 14/60\n",
            "15/15 [==============================] - 1s 75ms/step - loss: 0.0119\n",
            "Epoch 15/60\n",
            "15/15 [==============================] - 1s 76ms/step - loss: 0.0114\n",
            "Epoch 16/60\n",
            "15/15 [==============================] - 1s 75ms/step - loss: 0.0117\n",
            "Epoch 17/60\n",
            "15/15 [==============================] - 1s 74ms/step - loss: 0.0118\n",
            "Epoch 18/60\n",
            "15/15 [==============================] - 1s 76ms/step - loss: 0.0099\n",
            "Epoch 19/60\n",
            "15/15 [==============================] - 1s 76ms/step - loss: 0.0109\n",
            "Epoch 20/60\n",
            "15/15 [==============================] - 1s 75ms/step - loss: 0.0110\n",
            "Epoch 21/60\n",
            "15/15 [==============================] - 1s 77ms/step - loss: 0.0098\n",
            "Epoch 22/60\n",
            "15/15 [==============================] - 1s 74ms/step - loss: 0.0099\n",
            "Epoch 23/60\n",
            "15/15 [==============================] - 1s 76ms/step - loss: 0.0091\n",
            "Epoch 24/60\n",
            "15/15 [==============================] - 1s 75ms/step - loss: 0.0087\n",
            "Epoch 25/60\n",
            "15/15 [==============================] - 1s 74ms/step - loss: 0.0093\n",
            "Epoch 26/60\n",
            "15/15 [==============================] - 1s 74ms/step - loss: 0.0102\n",
            "Epoch 27/60\n",
            "15/15 [==============================] - 1s 74ms/step - loss: 0.0116\n",
            "Epoch 28/60\n",
            "15/15 [==============================] - 1s 75ms/step - loss: 0.0103\n",
            "Epoch 29/60\n",
            "15/15 [==============================] - 1s 77ms/step - loss: 0.0086\n",
            "Epoch 30/60\n",
            "15/15 [==============================] - 1s 74ms/step - loss: 0.0106\n",
            "Epoch 31/60\n",
            "15/15 [==============================] - 1s 74ms/step - loss: 0.0078\n",
            "Epoch 32/60\n",
            "15/15 [==============================] - 1s 74ms/step - loss: 0.0080\n",
            "Epoch 33/60\n",
            "15/15 [==============================] - 1s 73ms/step - loss: 0.0089\n",
            "Epoch 34/60\n",
            "15/15 [==============================] - 1s 75ms/step - loss: 0.0079\n",
            "Epoch 35/60\n",
            "15/15 [==============================] - 1s 76ms/step - loss: 0.0077\n",
            "Epoch 36/60\n",
            "15/15 [==============================] - 1s 74ms/step - loss: 0.0087\n",
            "Epoch 37/60\n",
            "15/15 [==============================] - 1s 76ms/step - loss: 0.0078\n",
            "Epoch 38/60\n",
            "15/15 [==============================] - 1s 76ms/step - loss: 0.0082\n",
            "Epoch 39/60\n",
            "15/15 [==============================] - 1s 74ms/step - loss: 0.0094\n",
            "Epoch 40/60\n",
            "15/15 [==============================] - 1s 74ms/step - loss: 0.0091\n",
            "Epoch 41/60\n",
            "15/15 [==============================] - 1s 74ms/step - loss: 0.0076\n",
            "Epoch 42/60\n",
            "15/15 [==============================] - 1s 75ms/step - loss: 0.0081\n",
            "Epoch 43/60\n",
            "15/15 [==============================] - 1s 75ms/step - loss: 0.0062\n",
            "Epoch 44/60\n",
            "15/15 [==============================] - 1s 74ms/step - loss: 0.0087\n",
            "Epoch 45/60\n",
            "15/15 [==============================] - 1s 74ms/step - loss: 0.0078\n",
            "Epoch 46/60\n",
            "15/15 [==============================] - 1s 75ms/step - loss: 0.0071\n",
            "Epoch 47/60\n",
            "15/15 [==============================] - 1s 74ms/step - loss: 0.0069\n",
            "Epoch 48/60\n",
            "15/15 [==============================] - 1s 75ms/step - loss: 0.0073\n",
            "Epoch 49/60\n",
            "15/15 [==============================] - 1s 73ms/step - loss: 0.0062\n",
            "Epoch 50/60\n",
            "15/15 [==============================] - 1s 74ms/step - loss: 0.0069\n",
            "Epoch 51/60\n",
            "15/15 [==============================] - 1s 74ms/step - loss: 0.0067\n",
            "Epoch 52/60\n",
            "15/15 [==============================] - 1s 74ms/step - loss: 0.0065\n",
            "Epoch 53/60\n",
            "15/15 [==============================] - 1s 74ms/step - loss: 0.0067\n",
            "Epoch 54/60\n",
            "15/15 [==============================] - 1s 75ms/step - loss: 0.0060\n",
            "Epoch 55/60\n",
            "15/15 [==============================] - 1s 76ms/step - loss: 0.0077\n",
            "Epoch 56/60\n",
            "15/15 [==============================] - 1s 76ms/step - loss: 0.0069\n",
            "Epoch 57/60\n",
            "15/15 [==============================] - 1s 74ms/step - loss: 0.0068\n",
            "Epoch 58/60\n",
            "15/15 [==============================] - 1s 74ms/step - loss: 0.0064\n",
            "Epoch 59/60\n",
            "15/15 [==============================] - 1s 74ms/step - loss: 0.0056\n",
            "Epoch 60/60\n",
            "15/15 [==============================] - 1s 75ms/step - loss: 0.0054\n"
          ]
        },
        {
          "output_type": "execute_result",
          "data": {
            "text/plain": [
              "<keras.callbacks.History at 0x7f88fc3bf450>"
            ]
          },
          "metadata": {},
          "execution_count": 170
        }
      ]
    },
    {
      "cell_type": "markdown",
      "metadata": {
        "id": "rYCRSQd1LGuy"
      },
      "source": [
        "## Part 3 - Predicting the stock prices on the test data via LSTM Model"
      ]
    },
    {
      "cell_type": "markdown",
      "source": [
        "### Test data 1"
      ],
      "metadata": {
        "id": "a6DGYcoSq-2d"
      }
    },
    {
      "cell_type": "code",
      "source": [
        "real_stock_values.shape"
      ],
      "metadata": {
        "colab": {
          "base_uri": "https://localhost:8080/"
        },
        "id": "gZrnp6Irj0kH",
        "outputId": "66a27aad-6722-4470-cec9-a035522e99dd"
      },
      "execution_count": null,
      "outputs": [
        {
          "output_type": "execute_result",
          "data": {
            "text/plain": [
              "(62, 1)"
            ]
          },
          "metadata": {},
          "execution_count": 171
        }
      ]
    },
    {
      "cell_type": "code",
      "metadata": {
        "id": "nLSf6ncXLmrB"
      },
      "source": [
        "#get the predicted for the etst data that is 2017 jan\n",
        "dataset_total = pd.concat((data_train['Open'],dataset_test1['Open']),axis = 0)\n",
        "inputs = dataset_total[len(dataset_total)- len(dataset_test1)-rolling_window:].values\n",
        "inputs = inputs.reshape(-1,1)\n",
        "inputs = sc.transform(inputs)\n",
        "X_test = []\n",
        "for i in range(rolling_window,(rolling_window+real_stock_values.shape[0])):\n",
        "  X_test.append(inputs[i-rolling_window:i,0])\n",
        "\n",
        "X_test = np.array(X_test)\n",
        "X_test = np.reshape(X_test,(X_test.shape[0], X_test.shape[1],1))\n",
        "predicted_stock_price = regressor.predict(X_test)\n",
        "predicted_stock_price = sc.inverse_transform(predicted_stock_price)"
      ],
      "execution_count": null,
      "outputs": []
    },
    {
      "cell_type": "code",
      "metadata": {
        "colab": {
          "base_uri": "https://localhost:8080/"
        },
        "id": "Fxdkb_JaSUdw",
        "outputId": "e8552469-1f68-41af-9f5d-5b3b9b6ef892"
      },
      "source": [
        "predicted_stock_price.shape"
      ],
      "execution_count": null,
      "outputs": [
        {
          "output_type": "execute_result",
          "data": {
            "text/plain": [
              "(62, 1)"
            ]
          },
          "metadata": {},
          "execution_count": 173
        }
      ]
    },
    {
      "cell_type": "code",
      "metadata": {
        "colab": {
          "base_uri": "https://localhost:8080/"
        },
        "id": "PT3wTITYOIiD",
        "outputId": "42e349c2-5517-4112-a957-740746065f96"
      },
      "source": [
        "#visualize the predictions and see where our model stands and how far off we are\n",
        "plt.plot(real_stock_values,color = 'red', label = 'real Nestle stock price')\n",
        "plt.plot(predicted_stock_price,color = 'blue', label = 'predicted Nestle stock price')\n",
        "plt.title(\"Nestle Stock Price Prediction\")\n",
        "plt.xlabel(\"time\")\n",
        "plt.ylabel('Nestle Stock price')\n",
        "plt.legend()\n",
        "plt.show()"
      ],
      "execution_count": null,
      "outputs": [
        {
          "output_type": "display_data",
          "data": {
            "image/png": "[encoded data removed]",
            "text/plain": [
              "<Figure size 432x288 with 1 Axes>"
            ]
          },
          "metadata": {
            "needs_background": "light"
          }
        }
      ]
    },
    {
      "cell_type": "code",
      "metadata": {
        "colab": {
          "base_uri": "https://localhost:8080/"
        },
        "id": "eNlW1VmhB2J0",
        "outputId": "fe13072b-d777-49a2-bcb8-e392392bd2c0"
      },
      "source": [
        "# RMSE EVALUATION For LSTM MODEL\n",
        "import math\n",
        "from sklearn.metrics import mean_squared_error\n",
        "rmse = math.sqrt(mean_squared_error(real_stock_values, predicted_stock_price))\n",
        "print(\"Total model error is\", rmse)"
      ],
      "execution_count": null,
      "outputs": [
        {
          "output_type": "stream",
          "name": "stdout",
          "text": [
            "Total model error is 940.4638018337104\n"
          ]
        }
      ]
    },
    {
      "cell_type": "markdown",
      "source": [
        "###Test data 2"
      ],
      "metadata": {
        "id": "zAfctNNsrCzj"
      }
    },
    {
      "cell_type": "code",
      "source": [
        "real_stock_values2.shape"
      ],
      "metadata": {
        "id": "MEdHZPgyrFIP",
        "colab": {
          "base_uri": "https://localhost:8080/"
        },
        "outputId": "9eb197d5-c21d-4f14-eae1-312915009be8"
      },
      "execution_count": null,
      "outputs": [
        {
          "output_type": "execute_result",
          "data": {
            "text/plain": [
              "(58, 1)"
            ]
          },
          "metadata": {},
          "execution_count": 176
        }
      ]
    },
    {
      "cell_type": "code",
      "source": [
        "#get the predicted for the etst data that is 2017 jan\n",
        "dataset_total = pd.concat((data_train['Open'],dataset_test1['Open'],dataset_test2['Open']),axis = 0)\n",
        "inputs = dataset_total[len(dataset_total)- len(dataset_test1)-len(dataset_test2)-rolling_window:].values\n",
        "inputs = inputs.reshape(-1,1)\n",
        "inputs = sc.transform(inputs)\n",
        "X_test2 = []\n",
        "upper_limit = rolling_window + real_stock_values2.shape[0]\n",
        "for i in range(rolling_window,upper_limit):\n",
        "  X_test2.append(inputs[i-rolling_window:i,0])\n",
        "\n",
        "X_test2 = np.array(X_test2)\n",
        "X_test2 = np.reshape(X_test2,(X_test2.shape[0], X_test2.shape[1],1))\n",
        "predicted_stock_price2 = regressor.predict(X_test2)\n",
        "predicted_stock_price2 = sc.inverse_transform(predicted_stock_price2)"
      ],
      "metadata": {
        "id": "a3F14Rjk2V7Y"
      },
      "execution_count": null,
      "outputs": []
    },
    {
      "cell_type": "code",
      "source": [
        "predicted_stock_price2.shape"
      ],
      "metadata": {
        "colab": {
          "base_uri": "https://localhost:8080/"
        },
        "id": "7CxJ9L0d2Y-7",
        "outputId": "12a6e372-7b0c-48b5-dbb3-ee36df0ab28a"
      },
      "execution_count": null,
      "outputs": [
        {
          "output_type": "execute_result",
          "data": {
            "text/plain": [
              "(58, 1)"
            ]
          },
          "metadata": {},
          "execution_count": 178
        }
      ]
    },
    {
      "cell_type": "code",
      "source": [
        "#visualize the predictions and see where our model stands and how far off we are\n",
        "plt.plot(real_stock_values2,color = 'red', label = 'real Nestle stock price')\n",
        "plt.plot(predicted_stock_price2,color = 'blue', label = 'predicted Nestle stock price')\n",
        "plt.title(\"Nestle Stock Price Prediction\")\n",
        "plt.xlabel(\"time\")\n",
        "plt.ylabel('Nestle Stock price')\n",
        "plt.legend()\n",
        "plt.show()"
      ],
      "metadata": {
        "colab": {
          "base_uri": "https://localhost:8080/"
        },
        "id": "kYDakn7E2bWh",
        "outputId": "12a238a2-11ef-45c4-aeaf-3846c6e2f5d6"
      },
      "execution_count": null,
      "outputs": [
        {
          "output_type": "display_data",
          "data": {
            "image/png": "[encoded data removed]",
            "text/plain": [
              "<Figure size 432x288 with 1 Axes>"
            ]
          },
          "metadata": {
            "needs_background": "light"
          }
        }
      ]
    },
    {
      "cell_type": "code",
      "source": [
        "import math\n",
        "from sklearn.metrics import mean_squared_error\n",
        "rmse2 = math.sqrt(mean_squared_error(real_stock_values2, predicted_stock_price2))\n",
        "print(\"Total model error is - \", rmse2)"
      ],
      "metadata": {
        "colab": {
          "base_uri": "https://localhost:8080/"
        },
        "id": "ah_A1qgL2dv3",
        "outputId": "bd5fb6ec-35b3-4486-fdce-6c7e4f9d0c38"
      },
      "execution_count": null,
      "outputs": [
        {
          "output_type": "stream",
          "name": "stdout",
          "text": [
            "Total model error is -  1604.2846030159874\n"
          ]
        }
      ]
    },
    {
      "cell_type": "markdown",
      "source": [
        "lstm\n",
        "epochs 100\n",
        "test1 -- 915\n",
        "test2 --2031\n",
        "\n",
        "epochs 75\n",
        "rmse\n",
        "test1 --902\n",
        "test2 -- 1901\n",
        "\n",
        "epochs 60\n",
        "rmse\n",
        "test1 -- 1018\n",
        "test2 -- 1467"
      ],
      "metadata": {
        "id": "eFLNBzmJFkKq"
      }
    },
    {
      "cell_type": "markdown",
      "source": [
        "rolling window\n",
        "30- 789\n",
        "25- 873\n",
        "10-993\n",
        "40- 848\n",
        "50-830\n",
        "60 - 851.7\n",
        "30 -- epochs 100-- 5layers added ---- 760\n",
        "35 -- epochs 100-- 5layers added ---- 845.76\n",
        "window now keeping fixed\n",
        "changing network hyperparameters\n",
        "units 40 dropout(0.25)*2 and dropout(0.5)*4 rest same"
      ],
      "metadata": {
        "id": "nxEqfWT-jTmJ"
      }
    }
  ]
}